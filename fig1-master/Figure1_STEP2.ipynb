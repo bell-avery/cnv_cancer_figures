{
 "cells": [
  {
   "cell_type": "code",
   "execution_count": 1,
   "metadata": {
    "colab": {
     "base_uri": "https://localhost:8080/",
     "height": 332
    },
    "colab_type": "code",
    "id": "m07JVYwH2YJr",
    "outputId": "33564445-53df-4e3e-d63c-2ff4896131af",
    "scrolled": true
   },
   "outputs": [
    {
     "name": "stdout",
     "output_type": "stream",
     "text": [
      "Requirement already satisfied: cptac in c:\\users\\chels\\anaconda3\\lib\\site-packages (0.7.1)\n",
      "Requirement already satisfied: requests>=2.21.0 in c:\\users\\chels\\anaconda3\\lib\\site-packages (from cptac) (2.22.0)\n",
      "Requirement already satisfied: urllib3>=1.24.2 in c:\\users\\chels\\anaconda3\\lib\\site-packages (from cptac) (1.24.2)\n",
      "Requirement already satisfied: packaging>=19.2 in c:\\users\\chels\\anaconda3\\lib\\site-packages (from cptac) (20.1)\n",
      "Requirement already satisfied: scipy>=1.2.1 in c:\\users\\chels\\anaconda3\\lib\\site-packages (from cptac) (1.2.1)\n",
      "Requirement already satisfied: pandas==0.25.* in c:\\users\\chels\\anaconda3\\lib\\site-packages (from cptac) (0.25.1)\n",
      "Requirement already satisfied: beautifulsoup4>=4.7.1 in c:\\users\\chels\\anaconda3\\lib\\site-packages (from cptac) (4.7.1)\n",
      "Requirement already satisfied: numpy>=1.16.3 in c:\\users\\chels\\anaconda3\\lib\\site-packages (from cptac) (1.16.4)\n",
      "Requirement already satisfied: certifi>=2017.4.17 in c:\\users\\chels\\anaconda3\\lib\\site-packages (from requests>=2.21.0->cptac) (2019.6.16)\n",
      "Requirement already satisfied: idna<2.9,>=2.5 in c:\\users\\chels\\anaconda3\\lib\\site-packages (from requests>=2.21.0->cptac) (2.8)\n",
      "Requirement already satisfied: chardet<3.1.0,>=3.0.2 in c:\\users\\chels\\anaconda3\\lib\\site-packages (from requests>=2.21.0->cptac) (3.0.4)\n",
      "Requirement already satisfied: pyparsing>=2.0.2 in c:\\users\\chels\\anaconda3\\lib\\site-packages (from packaging>=19.2->cptac) (2.4.0)\n",
      "Requirement already satisfied: six in c:\\users\\chels\\anaconda3\\lib\\site-packages (from packaging>=19.2->cptac) (1.12.0)\n",
      "Requirement already satisfied: python-dateutil>=2.6.1 in c:\\users\\chels\\anaconda3\\lib\\site-packages (from pandas==0.25.*->cptac) (2.8.0)\n",
      "Requirement already satisfied: pytz>=2017.2 in c:\\users\\chels\\anaconda3\\lib\\site-packages (from pandas==0.25.*->cptac) (2019.1)\n",
      "Requirement already satisfied: soupsieve>=1.2 in c:\\users\\chels\\anaconda3\\lib\\site-packages (from beautifulsoup4>=4.7.1->cptac) (1.8)\n",
      "Requirement already satisfied: xlsxwriter in c:\\users\\chels\\anaconda3\\lib\\site-packages (1.1.8)\n"
     ]
    }
   ],
   "source": [
    "!pip install cptac\n",
    "!pip install xlsxwriter"
   ]
  },
  {
   "cell_type": "code",
   "execution_count": 2,
   "metadata": {
    "colab": {},
    "colab_type": "code",
    "id": "pUgf4C002Lbz"
   },
   "outputs": [],
   "source": [
    "import pandas as pd\n",
    "import matplotlib.pyplot as plt\n",
    "import seaborn as sns\n",
    "import numpy as np\n",
    "import cptac\n",
    "import xlsxwriter"
   ]
  },
  {
   "cell_type": "code",
   "execution_count": 65,
   "metadata": {
    "colab": {},
    "colab_type": "code",
    "id": "BqKOPqIg2iU4"
   },
   "outputs": [],
   "source": [
    "def get_sig_genes(data):\n",
    "  q25, q75 = np.quantile(data['high'], [0.25, 0.75])\n",
    "  average_up = q75 + ((q75 - q25) * 1.5 )\n",
    "  q25, q75 = np.quantile(data['low'], [0.25, 0.75])\n",
    "  average_down = q75 + ((q75 - q25) * 1.5 )\n",
    "  data_up = data['high'] > average_up\n",
    "  data_down = data['low'] > average_down\n",
    "  data_sig = data_up | data_down\n",
    "  sig_genes = data[data_sig]\n",
    "  return data[data_up], data[data_down], average_up, average_down"
   ]
  },
  {
   "cell_type": "markdown",
   "metadata": {
    "colab_type": "text",
    "id": "RchgkGxF2nz0"
   },
   "source": [
    "## Download all Datasets"
   ]
  },
  {
   "cell_type": "code",
   "execution_count": 4,
   "metadata": {
    "colab": {
     "base_uri": "https://localhost:8080/",
     "height": 17
    },
    "colab_type": "code",
    "id": "4VJbHzjF2sT0",
    "outputId": "bdede81d-604b-47f5-9017-8be0c44c3570"
   },
   "outputs": [
    {
     "name": "stdout",
     "output_type": "stream",
     "text": [
      "                                    \r"
     ]
    }
   ],
   "source": [
    "cptac.download(dataset=\"endometrial\")\n",
    "en = cptac.Endometrial()\n",
    "en_cnv = en.get_CNV()"
   ]
  },
  {
   "cell_type": "code",
   "execution_count": 5,
   "metadata": {
    "colab": {},
    "colab_type": "code",
    "id": "7smlIvRw2wix"
   },
   "outputs": [
    {
     "name": "stdout",
     "output_type": "stream",
     "text": [
      "                                    \r"
     ]
    },
    {
     "name": "stderr",
     "output_type": "stream",
     "text": [
      "cptac warning: The GBM dataset is under publication embargo until March 01, 2021. CPTAC is a community resource project and data are made available rapidly after generation for community research use. The embargo allows exploring and utilizing the data, but analysis may not be published until after the embargo date. Please see https://proteomics.cancer.gov/data-portal/about/data-use-agreement or enter cptac.embargo() to open the webpage for more details. (C:\\Users\\chels\\Anaconda3\\lib\\site-packages\\ipykernel_launcher.py, line 2)\n"
     ]
    }
   ],
   "source": [
    "cptac.download(dataset=\"gbm\")\n",
    "gbm = cptac.Gbm()\n",
    "gbm_cnv = gbm.get_CNV()"
   ]
  },
  {
   "cell_type": "code",
   "execution_count": 6,
   "metadata": {
    "colab": {},
    "colab_type": "code",
    "id": "jZLYlIHN24w-"
   },
   "outputs": [
    {
     "name": "stdout",
     "output_type": "stream",
     "text": [
      "Downloading data files (1/8)...     \r"
     ]
    },
    {
     "name": "stderr",
     "output_type": "stream",
     "text": [
      "cptac warning: Downloading new version of brca dataset: 3.1.1. This will now be the default version when the dataset is loaded. If you wish to load an older version of the data, you must specify it with the 'version' parameter when you load the dataset. (C:\\Users\\chels\\Anaconda3\\lib\\site-packages\\ipykernel_launcher.py, line 1)\n"
     ]
    },
    {
     "name": "stdout",
     "output_type": "stream",
     "text": [
      "                                    \r"
     ]
    }
   ],
   "source": [
    "cptac.download(dataset=\"brca\")\n",
    "brca = cptac.Brca()\n",
    "brca_cnv = brca.get_CNV()"
   ]
  },
  {
   "cell_type": "code",
   "execution_count": 7,
   "metadata": {
    "colab": {},
    "colab_type": "code",
    "id": "UMg3F1582-Aj"
   },
   "outputs": [
    {
     "name": "stdout",
     "output_type": "stream",
     "text": [
      "Password: ········                  \n",
      "                                    \r"
     ]
    }
   ],
   "source": [
    "cptac.download(dataset=\"hnscc\")\n",
    "hnscc = cptac.Hnscc()\n",
    "hnscc_cnv = hnscc.get_CNV()"
   ]
  },
  {
   "cell_type": "code",
   "execution_count": 8,
   "metadata": {
    "colab": {},
    "colab_type": "code",
    "id": "PKI4QDEs2-jK"
   },
   "outputs": [
    {
     "name": "stdout",
     "output_type": "stream",
     "text": [
      "                                    \r"
     ]
    },
    {
     "name": "stderr",
     "output_type": "stream",
     "text": [
      "cptac warning: The LUAD dataset is under publication embargo until July 01, 2020. CPTAC is a community resource project and data are made available rapidly after generation for community research use. The embargo allows exploring and utilizing the data, but analysis may not be published until after the embargo date. Please see https://proteomics.cancer.gov/data-portal/about/data-use-agreement or enter cptac.embargo() to open the webpage for more details. (C:\\Users\\chels\\Anaconda3\\lib\\site-packages\\ipykernel_launcher.py, line 2)\n"
     ]
    }
   ],
   "source": [
    "cptac.download(dataset=\"luad\")\n",
    "luad = cptac.Luad()\n",
    "luad_cnv = luad.get_CNV()"
   ]
  },
  {
   "cell_type": "code",
   "execution_count": 9,
   "metadata": {
    "colab": {},
    "colab_type": "code",
    "id": "-XlVxN4X3CkU"
   },
   "outputs": [
    {
     "name": "stdout",
     "output_type": "stream",
     "text": [
      "Downloading data files (1/9)...     \r"
     ]
    },
    {
     "name": "stderr",
     "output_type": "stream",
     "text": [
      "cptac warning: Downloading new version of ovarian dataset: 0.0.1. This will now be the default version when the dataset is loaded. If you wish to load an older version of the data, you must specify it with the 'version' parameter when you load the dataset. (C:\\Users\\chels\\Anaconda3\\lib\\site-packages\\ipykernel_launcher.py, line 1)\n"
     ]
    },
    {
     "name": "stdout",
     "output_type": "stream",
     "text": [
      "                                    \r"
     ]
    }
   ],
   "source": [
    "cptac.download(dataset=\"ovarian\")\n",
    "ovarian = cptac.Ovarian()\n",
    "ovarian_cnv = ovarian.get_CNV()"
   ]
  },
  {
   "cell_type": "code",
   "execution_count": 10,
   "metadata": {
    "colab": {},
    "colab_type": "code",
    "id": "slmK29tX3FEP"
   },
   "outputs": [
    {
     "name": "stdout",
     "output_type": "stream",
     "text": [
      "Downloading data files (1/12)...    \r"
     ]
    },
    {
     "name": "stderr",
     "output_type": "stream",
     "text": [
      "cptac warning: Downloading new version of ccrcc dataset: 0.1.1. This will now be the default version when the dataset is loaded. If you wish to load an older version of the data, you must specify it with the 'version' parameter when you load the dataset. (C:\\Users\\chels\\Anaconda3\\lib\\site-packages\\ipykernel_launcher.py, line 1)\n"
     ]
    },
    {
     "name": "stdout",
     "output_type": "stream",
     "text": [
      "                                    \r"
     ]
    }
   ],
   "source": [
    "cptac.download(dataset=\"ccrcc\")\n",
    "ccrcc = cptac.Ccrcc()\n",
    "ccrcc_cnv = ccrcc.get_CNV()"
   ]
  },
  {
   "cell_type": "markdown",
   "metadata": {
    "colab_type": "text",
    "id": "charU2l1ddtQ"
   },
   "source": [
    "# Read in Uniprot Data"
   ]
  },
  {
   "cell_type": "code",
   "execution_count": 59,
   "metadata": {
    "colab": {},
    "colab_type": "code",
    "id": "47zLRpTndiyV"
   },
   "outputs": [],
   "source": [
    "uniprot_chromosomes = pd.read_csv(\"uniprot_chromosomes.csv\")\n",
    "uniprot_chromosomes = uniprot_chromosomes.drop(['Unnamed: 0'], axis=1)\n",
    "uniprot_chromosomes['chromosome'] = uniprot_chromosomes['chromosome'].apply(lambda x: x.replace(\"['\", '').replace(\"']\", ''))\n",
    "uniprot_chromosomes = uniprot_chromosomes.set_index('gene')"
   ]
  },
  {
   "cell_type": "markdown",
   "metadata": {
    "colab_type": "text",
    "id": "nt5qSPS43LfZ"
   },
   "source": [
    "## Get Counts and Average"
   ]
  },
  {
   "cell_type": "code",
   "execution_count": 13,
   "metadata": {
    "colab": {},
    "colab_type": "code",
    "id": "Yb7rwRuI2VHA"
   },
   "outputs": [],
   "source": [
    "def separate(hiCut, lowCut, data):\n",
    "  sepDict = dict()\n",
    "  for column in data:\n",
    "    numHi = 0\n",
    "    numLow = 0\n",
    "    numNeu = 0\n",
    "    for i in data[column]:\n",
    "      if i > hiCut:\n",
    "        numHi += 1\n",
    "      elif i < lowCut:\n",
    "        numLow += 1\n",
    "      else:\n",
    "        numNeu += 1 \n",
    "    sepDict[column] = [numHi, numNeu, numLow]\n",
    "  return sepDict"
   ]
  },
  {
   "cell_type": "code",
   "execution_count": 14,
   "metadata": {
    "colab": {},
    "colab_type": "code",
    "id": "fFx7w_Kj2ggD"
   },
   "outputs": [],
   "source": [
    "def get_counts_and_average(data):\n",
    "  df = pd.DataFrame(data = separate(.3,-.2,data), index = [\"high\", \"neutral\", \"low\"])\n",
    "  df = df.append(pd.DataFrame(data.mean(0), columns=['average']).transpose(), sort=True)\n",
    "  return df"
   ]
  },
  {
   "cell_type": "code",
   "execution_count": 15,
   "metadata": {
    "colab": {},
    "colab_type": "code",
    "id": "VfQ1bxha3R4I"
   },
   "outputs": [],
   "source": [
    "en_counts = get_counts_and_average(en_cnv)\n",
    "gbm_counts = get_counts_and_average(gbm_cnv)\n",
    "brca_counts = get_counts_and_average(brca_cnv)\n",
    "hnscc_counts = get_counts_and_average(hnscc_cnv)\n",
    "luad_counts = get_counts_and_average(luad_cnv)\n",
    "ovarian_counts = get_counts_and_average(ovarian_cnv)\n",
    "ccrcc_counts = get_counts_and_average(ccrcc_cnv)"
   ]
  },
  {
   "cell_type": "code",
   "execution_count": 80,
   "metadata": {},
   "outputs": [],
   "source": [
    "brca_counts.transpose().to_csv(\"brca_counts.csv\")"
   ]
  },
  {
   "cell_type": "markdown",
   "metadata": {
    "colab_type": "text",
    "id": "wWe0R6vp5fe7"
   },
   "source": [
    "## Get Significant List for each cancer type"
   ]
  },
  {
   "cell_type": "code",
   "execution_count": 66,
   "metadata": {
    "colab": {},
    "colab_type": "code",
    "id": "E5KDdKDA5niz"
   },
   "outputs": [
    {
     "name": "stdout",
     "output_type": "stream",
     "text": [
      "8.5\n",
      "17.0\n"
     ]
    }
   ],
   "source": [
    "en_sig_genes_up, en_sig_genes_down, en_up_cutoff, en_down_cutoff = get_sig_genes(en_counts.transpose())"
   ]
  },
  {
   "cell_type": "code",
   "execution_count": 67,
   "metadata": {
    "colab": {},
    "colab_type": "code",
    "id": "Oo1-At0d5s17"
   },
   "outputs": [
    {
     "name": "stdout",
     "output_type": "stream",
     "text": [
      "10.0\n",
      "19.5\n"
     ]
    }
   ],
   "source": [
    "gbm_sig_genes_up, gbm_sig_genes_down, gbm_up_cutoff, gbm_down_cutoff = get_sig_genes(gbm_counts.transpose())"
   ]
  },
  {
   "cell_type": "code",
   "execution_count": 68,
   "metadata": {
    "colab": {},
    "colab_type": "code",
    "id": "Qq2rB-v-5xDA"
   },
   "outputs": [
    {
     "name": "stdout",
     "output_type": "stream",
     "text": [
      "41.0\n",
      "54.5\n"
     ]
    }
   ],
   "source": [
    "brca_sig_genes_up, brca_sig_genes_down, brca_up_cutoff, brca_down_cutoff = get_sig_genes(brca_counts.transpose())"
   ]
  },
  {
   "cell_type": "code",
   "execution_count": 69,
   "metadata": {
    "colab": {},
    "colab_type": "code",
    "id": "0Zg3sgsv5zx9"
   },
   "outputs": [
    {
     "name": "stdout",
     "output_type": "stream",
     "text": [
      "19.5\n",
      "39.0\n"
     ]
    }
   ],
   "source": [
    "hnscc_sig_genes_up, hnscc_sig_genes_down, hnscc_up_cutoff, hnscc_down_cutoff = get_sig_genes(hnscc_counts.transpose())"
   ]
  },
  {
   "cell_type": "code",
   "execution_count": 70,
   "metadata": {
    "colab": {},
    "colab_type": "code",
    "id": "IT6bLzJx54fz"
   },
   "outputs": [
    {
     "name": "stdout",
     "output_type": "stream",
     "text": [
      "14.5\n",
      "44.0\n"
     ]
    }
   ],
   "source": [
    "luad_sig_genes_up, luad_sig_genes_down, luad_up_cutoff, luad_down_cutoff = get_sig_genes(luad_counts.transpose())"
   ]
  },
  {
   "cell_type": "code",
   "execution_count": 71,
   "metadata": {
    "colab": {},
    "colab_type": "code",
    "id": "Kop9jhO_57gM"
   },
   "outputs": [
    {
     "name": "stdout",
     "output_type": "stream",
     "text": [
      "42.5\n",
      "75.0\n"
     ]
    }
   ],
   "source": [
    "ovarian_sig_genes_up, ovarian_sig_genes_down, ovarian_up_cutoff, ovarian_down_cutoff = get_sig_genes(ovarian_counts.transpose())"
   ]
  },
  {
   "cell_type": "code",
   "execution_count": 72,
   "metadata": {
    "colab": {},
    "colab_type": "code",
    "id": "Uzv_SJnp5_wF"
   },
   "outputs": [
    {
     "name": "stdout",
     "output_type": "stream",
     "text": [
      "10.0\n",
      "22.0\n"
     ]
    }
   ],
   "source": [
    "ccrcc_sig_genes_up, ccrcc_sig_genes_down, ccrcc_up_cutoff, ccrcc_down_cutoff = get_sig_genes(ccrcc_counts.transpose())"
   ]
  },
  {
   "cell_type": "code",
   "execution_count": 76,
   "metadata": {},
   "outputs": [
    {
     "name": "stdout",
     "output_type": "stream",
     "text": [
      "         Above  Below\n",
      "ENDO       8.5   17.0\n",
      "GBM       10.0   19.5\n",
      "BRCA      41.0   54.5\n",
      "HNSCC     19.5   39.0\n",
      "LUAD      14.5   44.0\n",
      "OVARIAN   42.5   75.0\n",
      "CCRCC     10.0   22.0\n"
     ]
    }
   ],
   "source": [
    "cutoffs = pd.DataFrame({'Above': [en_up_cutoff, gbm_up_cutoff, brca_up_cutoff, hnscc_up_cutoff, luad_up_cutoff, ovarian_up_cutoff, ccrcc_up_cutoff],\n",
    "            'Below': [en_down_cutoff, gbm_down_cutoff, brca_down_cutoff, hnscc_down_cutoff, luad_down_cutoff, ovarian_down_cutoff, ccrcc_down_cutoff]},\n",
    "                      index = ['ENDO', 'GBM', 'BRCA', 'HNSCC', 'LUAD', 'OVARIAN', 'CCRCC'])\n",
    "cutoffs.to_csv(\"cutoffs_table.csv\")"
   ]
  },
  {
   "cell_type": "markdown",
   "metadata": {
    "colab_type": "text",
    "id": "CYzPQxv86CAN"
   },
   "source": [
    "## Get Significant Insertions across Cancer Types"
   ]
  },
  {
   "cell_type": "code",
   "execution_count": 23,
   "metadata": {
    "colab": {},
    "colab_type": "code",
    "id": "gTdr85v16ONJ"
   },
   "outputs": [],
   "source": [
    "def CountFrequency(my_list): \n",
    "      \n",
    "    # Creating an empty dictionary  \n",
    "    freq = {} \n",
    "    for items in my_list: \n",
    "        freq[items] = my_list.count(items) \n",
    "\n",
    "    sig = []\n",
    "      \n",
    "    for key, value in freq.items(): \n",
    "      if value > 2:\n",
    "        sig.append(key)\n",
    "    return sig"
   ]
  },
  {
   "cell_type": "code",
   "execution_count": 24,
   "metadata": {
    "colab": {},
    "colab_type": "code",
    "id": "QHiKVUkk6P_0"
   },
   "outputs": [
    {
     "name": "stdout",
     "output_type": "stream",
     "text": [
      "ABHD16B: 3\n",
      "ADRM1: 3\n",
      "APCDD1L: 3\n",
      "ARFGAP1: 3\n",
      "ARFRP1: 4\n",
      "BHLHE23: 3\n",
      "BIRC7: 3\n",
      "CABLES2: 4\n",
      "CCT6A: 3\n",
      "CDH26: 3\n",
      "CHCHD2: 3\n",
      "CHRNA4: 3\n",
      "COL20A1: 3\n",
      "COL9A3: 3\n",
      "CTSZ: 3\n",
      "DIDO1: 3\n",
      "DNAJC5: 3\n",
      "EDN3: 3\n",
      "EEF1A2: 3\n",
      "EGFR: 3\n",
      "FAM217B: 3\n",
      "FNDC11: 3\n",
      "GATA5: 3\n",
      "GID8: 3\n",
      "GMEB2: 4\n",
      "GNAS: 3\n",
      "HELZ2: 4\n",
      "HRH3: 3\n",
      "LAMA5: 3\n",
      "LANCL2: 3\n",
      "LIME1: 4\n",
      "LKAAEAR1: 3\n",
      "LSM14B: 3\n",
      "MDM4: 3\n",
      "MRGBP: 3\n",
      "MRPS17: 3\n",
      "MTG2: 3\n",
      "NELFCD: 3\n",
      "NKAIN4: 3\n",
      "NPEPL1: 3\n",
      "NUPR2: 3\n",
      "OGFR: 3\n",
      "OSBPL2: 3\n",
      "PHKG1: 3\n",
      "PIK3C2B: 3\n",
      "PLEKHA6: 3\n",
      "PPDPF: 3\n",
      "PPP1R15B: 3\n",
      "PPP1R3D: 3\n",
      "PRPF6: 3\n",
      "PSMA7: 3\n",
      "PSPH: 3\n",
      "PTK6: 3\n",
      "RBBP8NL: 3\n",
      "RGS19: 3\n",
      "RPS21: 4\n",
      "RTEL1: 4\n",
      "SAMD10: 4\n",
      "SEC61G: 3\n",
      "SEPT14: 3\n",
      "SLC2A4RG: 4\n",
      "SOX18: 3\n",
      "SRMS: 4\n",
      "SS18L1: 3\n",
      "STMN3: 4\n",
      "STX16: 3\n",
      "SUMF2: 3\n",
      "SYCP2: 3\n",
      "TCEA2: 3\n",
      "TCFL5: 3\n",
      "TNFRSF6B: 4\n",
      "TPD52L2: 3\n",
      "TUBB1: 3\n",
      "UCKL1: 3\n",
      "VOPP1: 3\n",
      "VSTM2A: 3\n",
      "YTHDF1: 3\n",
      "ZBTB46: 4\n",
      "ZGPAT: 4\n",
      "ZNF217: 3\n",
      "ZNF512B: 4\n",
      "ZNF713: 3\n",
      "ZNF831: 3\n",
      "AARD: 4\n",
      "ABRA: 3\n",
      "ADCY8: 4\n",
      "AGO2: 3\n",
      "ANGPT1: 3\n",
      "ANKRD46: 4\n",
      "ANXA13: 4\n",
      "ARC: 3\n",
      "ASAP1: 4\n",
      "ATAD2: 4\n",
      "ATP6V1C1: 4\n",
      "AZIN1: 4\n",
      "BAALC: 4\n",
      "BOP1: 3\n",
      "C8orf33: 4\n",
      "C8orf37: 4\n",
      "C8orf76: 4\n",
      "C8orf82: 3\n",
      "C8orf89: 3\n",
      "CCDC166: 3\n",
      "CCNE2: 3\n",
      "CHRAC1: 3\n",
      "COL14A1: 4\n",
      "COL22A1: 3\n",
      "COLEC10: 4\n",
      "COMMD5: 3\n",
      "COX6C: 4\n",
      "CPQ: 4\n",
      "CPSF1: 3\n",
      "CRISPLD1: 3\n",
      "CSMD3: 4\n",
      "CTHRC1: 4\n",
      "CYHR1: 3\n",
      "CYP11B1: 3\n",
      "CYP11B2: 3\n",
      "DCAF13: 4\n",
      "DCSTAMP: 4\n",
      "DENND3: 3\n",
      "DEPTOR: 4\n",
      "DERL1: 4\n",
      "DGAT1: 3\n",
      "DPY19L4: 3\n",
      "DPYS: 4\n",
      "DSCC1: 4\n",
      "EBAG9: 3\n",
      "ECT2: 3\n",
      "EEF1D: 3\n",
      "EFR3A: 4\n",
      "EIF3E: 3\n",
      "EIF3H: 4\n",
      "ELOC: 3\n",
      "EMC2: 3\n",
      "ENPP2: 4\n",
      "ENY2: 4\n",
      "ERICH5: 3\n",
      "ESRP1: 3\n",
      "EXOSC4: 3\n",
      "EXT1: 4\n",
      "FAM135B: 3\n",
      "FAM49B: 4\n",
      "FAM83A: 4\n",
      "FAM91A1: 3\n",
      "FAM92A: 3\n",
      "FBXO32: 4\n",
      "FBXO43: 4\n",
      "FER1L6: 4\n",
      "FOXH1: 3\n",
      "FSBP: 3\n",
      "FZD6: 4\n",
      "GDAP1: 3\n",
      "GDF6: 4\n",
      "GEM: 3\n",
      "GHSR: 3\n",
      "GLI4: 3\n",
      "GML: 3\n",
      "GPAA1: 3\n",
      "GPIHBP1: 3\n",
      "GPR20: 3\n",
      "GPT: 3\n",
      "GRHL2: 4\n",
      "GRINA: 3\n",
      "GSDMC: 4\n",
      "GSDMD: 3\n",
      "HAS2: 4\n",
      "HEY1: 3\n",
      "HHLA1: 4\n",
      "HSF1: 3\n",
      "INTS8: 3\n",
      "JPH1: 3\n",
      "KCNB2: 3\n",
      "KCNK9: 3\n",
      "KCNQ3: 4\n",
      "KCNS2: 4\n",
      "KCNV1: 4\n",
      "KHDRBS3: 4\n",
      "KIFC2: 3\n",
      "KLF10: 4\n",
      "KLHL38: 4\n",
      "LAPTM4B: 4\n",
      "LRP12: 4\n",
      "LRRC14: 3\n",
      "LRRC24: 3\n",
      "LRRC6: 4\n",
      "LY6D: 3\n",
      "LY6E: 3\n",
      "LY6H: 3\n",
      "LY6K: 3\n",
      "LY96: 3\n",
      "LYNX1: 3\n",
      "LYPD2: 3\n",
      "MAF1: 3\n",
      "MAFA: 3\n",
      "MAL2: 4\n",
      "MAPK15: 3\n",
      "MATN2: 4\n",
      "MED30: 4\n",
      "MFSD3: 3\n",
      "MROH6: 3\n",
      "MRPL13: 4\n",
      "MRPS28: 3\n",
      "MSC: 3\n",
      "MTBP: 4\n",
      "MTDH: 4\n",
      "MTERF3: 3\n",
      "MTSS1: 4\n",
      "MYC: 3\n",
      "NCALD: 4\n",
      "NCEH1: 3\n",
      "NDRG1: 4\n",
      "NDUFAF6: 3\n",
      "NDUFB9: 4\n",
      "NIPAL2: 4\n",
      "NRBP2: 3\n",
      "NSMCE2: 4\n",
      "NUDCD1: 4\n",
      "OC90: 4\n",
      "ODF1: 4\n",
      "OPLAH: 3\n",
      "OSR2: 4\n",
      "OXR1: 3\n",
      "PABPC1: 4\n",
      "PARP10: 3\n",
      "PHF20L1: 4\n",
      "PI15: 3\n",
      "PKHD1L1: 4\n",
      "PLEC: 3\n",
      "PLEKHF2: 3\n",
      "POLR2K: 4\n",
      "POP1: 4\n",
      "POU5F1B: 4\n",
      "PPP1R16A: 3\n",
      "PREX2: 3\n",
      "PSCA: 3\n",
      "PTDSS1: 4\n",
      "PTK2: 3\n",
      "PUF60: 3\n",
      "RAD21: 4\n",
      "RAD54B: 3\n",
      "RBM12B: 3\n",
      "RDH10: 3\n",
      "RGS22: 4\n",
      "RHPN1: 3\n",
      "RIDA: 3\n",
      "RIMS2: 4\n",
      "RNF139: 4\n",
      "RNF19A: 3\n",
      "RPL30: 4\n",
      "RPL7: 3\n",
      "RPL8: 3\n",
      "RRM2B: 4\n",
      "RSPO2: 3\n",
      "SAMD12: 4\n",
      "SBSPON: 3\n",
      "SDC2: 4\n",
      "SHARPIN: 3\n",
      "SLA: 4\n",
      "SLC25A32: 4\n",
      "SLC30A8: 4\n",
      "SLC45A4: 3\n",
      "SLC52A2: 3\n",
      "SLURP1: 3\n",
      "SNTB1: 4\n",
      "SNX31: 4\n",
      "SPAG1: 4\n",
      "SPATA16: 3\n",
      "SPATC1: 3\n",
      "SQLE: 4\n",
      "ST3GAL1: 4\n",
      "STAU2: 3\n",
      "STK3: 4\n",
      "STMN2: 3\n",
      "SYBU: 4\n",
      "TAF2: 3\n",
      "TATDN1: 4\n",
      "TBC1D31: 4\n",
      "TERF1: 3\n",
      "TG: 4\n",
      "THEM6: 3\n",
      "TIGD5: 3\n",
      "TMEM65: 4\n",
      "TMEM67: 3\n",
      "TMEM70: 3\n",
      "TMEM71: 4\n",
      "TMEM74: 3\n",
      "TNFRSF11B: 4\n",
      "TNFSF10: 3\n",
      "TONSL: 3\n",
      "TOP1MT: 3\n",
      "TP53INP1: 4\n",
      "TPD52: 3\n",
      "TRAPPC9: 3\n",
      "TRHR: 3\n",
      "TRIB1: 4\n",
      "TRIQK: 3\n",
      "TRMT12: 4\n",
      "TRPA1: 3\n",
      "TRPS1: 4\n",
      "TSNARE1: 3\n",
      "TSPYL5: 4\n",
      "TSTA3: 3\n",
      "UBE2W: 3\n",
      "UBR5: 4\n",
      "UQCRB: 4\n",
      "UTP23: 4\n",
      "VPS13B: 4\n",
      "VPS28: 3\n",
      "WASHC5: 3\n",
      "WDYHV1: 4\n",
      "YWHAZ: 4\n",
      "ZBTB10: 3\n",
      "ZC3H3: 3\n",
      "ZFAT: 4\n",
      "ZFP41: 3\n",
      "ZFPM2: 4\n",
      "ZHX1: 4\n",
      "ZHX2: 4\n",
      "ZNF16: 3\n",
      "ZNF250: 3\n",
      "ZNF251: 3\n",
      "ZNF34: 3\n",
      "ZNF517: 3\n",
      "ZNF572: 4\n",
      "ZNF696: 3\n",
      "ZNF7: 3\n",
      "ZNF704: 3\n",
      "ZNF706: 4\n",
      "ZNF707: 3\n",
      "CHTOP: 3\n",
      "FAM84B: 3\n",
      "ILF2: 3\n",
      "NOV: 3\n",
      "NPR1: 3\n",
      "PGBD2: 3\n",
      "S100A1: 3\n",
      "S100A13: 3\n",
      "S100A14: 3\n",
      "S100A16: 3\n",
      "S100A2: 3\n",
      "S100A3: 3\n",
      "S100A4: 3\n",
      "S100A5: 3\n",
      "SH3BP5L: 3\n",
      "SNAPIN: 3\n",
      "WISP1: 3\n",
      "ZNF672: 3\n",
      "ZNF692: 3\n"
     ]
    }
   ],
   "source": [
    "sig_genes_up = CountFrequency(list(gbm_sig_genes_up.index) + list(hnscc_sig_genes_up.index) + list(luad_sig_genes_up.index) + list(ovarian_sig_genes_up.index) + list(ccrcc_sig_genes_up.index) + list(brca_sig_genes_up.index) + list(en_sig_genes_up.index))"
   ]
  },
  {
   "cell_type": "code",
   "execution_count": 25,
   "metadata": {
    "colab": {},
    "colab_type": "code",
    "id": "u9VY37hFh9B3"
   },
   "outputs": [
    {
     "name": "stdout",
     "output_type": "stream",
     "text": [
      "BPY2: 4\n",
      "BPY2B: 4\n",
      "BPY2C: 4\n",
      "CDKN2A: 3\n",
      "CDKN2B: 3\n",
      "CDY1: 4\n",
      "CDY1B: 4\n",
      "DAZ1: 4\n",
      "DAZ2: 4\n",
      "DAZ3: 4\n",
      "DAZ4: 4\n",
      "DDX3Y: 4\n",
      "EIF1AY: 4\n",
      "TBL1Y: 4\n",
      "TGIF2LY: 4\n",
      "TSPY1: 4\n",
      "TSPY10: 4\n",
      "TSPY3: 4\n",
      "TSPY4: 4\n",
      "TSPY8: 4\n",
      "USP9Y: 4\n",
      "AMELY: 3\n",
      "CDY2A: 3\n",
      "CDY2B: 3\n",
      "HSFY1: 3\n",
      "HSFY2: 3\n",
      "KDM5D: 3\n",
      "NLGN4Y: 3\n",
      "PCDH11Y: 3\n",
      "PRORY: 3\n",
      "PRY: 3\n",
      "PRY2: 3\n",
      "RBMY1A1: 3\n",
      "RBMY1B: 3\n",
      "RBMY1D: 3\n",
      "RBMY1E: 3\n",
      "RBMY1F: 3\n",
      "RBMY1J: 3\n",
      "RPS4Y1: 3\n",
      "RPS4Y2: 3\n",
      "SRY: 3\n",
      "TMSB4Y: 3\n",
      "TSPY2: 3\n",
      "UTY: 3\n",
      "VCY: 3\n",
      "VCY1B: 3\n",
      "ZFY: 3\n"
     ]
    }
   ],
   "source": [
    "sig_genes_down = CountFrequency(list(gbm_sig_genes_down.index) + list(hnscc_sig_genes_down.index) + list(luad_sig_genes_down.index) + list(ovarian_sig_genes_down.index) + list(ccrcc_sig_genes_down.index) + list(brca_sig_genes_down.index) + list(en_sig_genes_down.index))"
   ]
  },
  {
   "cell_type": "markdown",
   "metadata": {
    "colab_type": "text",
    "id": "zRyCXsQ77GEs"
   },
   "source": [
    "Add Type row to Counts"
   ]
  },
  {
   "cell_type": "code",
   "execution_count": 26,
   "metadata": {
    "colab": {},
    "colab_type": "code",
    "id": "DsiPqUn97J_P"
   },
   "outputs": [],
   "source": [
    "def get_count_type(row, up, down):\n",
    "  gene = row.name\n",
    "  if gene in up.index:\n",
    "    return \"high\" # High\n",
    "  elif gene in down.index:\n",
    "    return \"low\" #Low\n",
    "  else:\n",
    "    return \"normal\" #Normal"
   ]
  },
  {
   "cell_type": "code",
   "execution_count": 27,
   "metadata": {
    "colab": {},
    "colab_type": "code",
    "id": "9d-t0f8Z7Lqe"
   },
   "outputs": [],
   "source": [
    "en_counts_t = en_counts.transpose()\n",
    "en_counts_t['ENDO'] = en_counts_t.apply(lambda row: get_count_type(row, en_sig_genes_up, en_sig_genes_down), axis=1)"
   ]
  },
  {
   "cell_type": "code",
   "execution_count": 28,
   "metadata": {
    "colab": {},
    "colab_type": "code",
    "id": "nj39LonT7ZA_"
   },
   "outputs": [],
   "source": [
    "gbm_counts_t = gbm_counts.transpose()\n",
    "gbm_counts_t['GBM'] = gbm_counts_t.apply(lambda row: get_count_type(row, gbm_sig_genes_up, gbm_sig_genes_down), axis=1)"
   ]
  },
  {
   "cell_type": "code",
   "execution_count": 29,
   "metadata": {
    "colab": {},
    "colab_type": "code",
    "id": "T3LJ3aT27hSf"
   },
   "outputs": [],
   "source": [
    "brca_counts_t = brca_counts.transpose()\n",
    "brca_counts_t['BRCA'] = brca_counts_t.apply(lambda row: get_count_type(row, brca_sig_genes_up, brca_sig_genes_down), axis=1)\n"
   ]
  },
  {
   "cell_type": "code",
   "execution_count": 30,
   "metadata": {
    "colab": {},
    "colab_type": "code",
    "id": "6gsDoc7A-grK"
   },
   "outputs": [],
   "source": [
    "filter1 = brca_counts_t.transpose().columns.get_level_values(level=0).isin(brca_sig_genes_up.index.get_level_values(level=0))\n",
    "brca_filtered_counts = brca_counts_t.transpose().loc[:, filter1]\n",
    "filter2 = brca_counts_t.transpose().columns.get_level_values(level=0).isin(brca_sig_genes_down.index.get_level_values(level=0))\n",
    "brca_filtered_counts_down = brca_counts_t.transpose().loc[:, filter2]\n",
    "brca_filtered_counts = brca_filtered_counts.transpose().append(brca_filtered_counts_down.transpose())"
   ]
  },
  {
   "cell_type": "code",
   "execution_count": 32,
   "metadata": {
    "colab": {},
    "colab_type": "code",
    "id": "ppmtrK0T-W6b"
   },
   "outputs": [],
   "source": [
    "brca_filtered_counts_index = brca_filtered_counts.index.droplevel(level=1)\n",
    "brca_filtered_counts.index = brca_filtered_counts_index\n",
    "brca_filtered_counts_t = brca_filtered_counts.loc[~brca_filtered_counts.index.duplicated(keep='first')]"
   ]
  },
  {
   "cell_type": "code",
   "execution_count": 34,
   "metadata": {
    "colab": {},
    "colab_type": "code",
    "id": "4ib5r9uk7iFR"
   },
   "outputs": [],
   "source": [
    "hnscc_counts_t = hnscc_counts.transpose()\n",
    "hnscc_counts_t['HNSCC'] = hnscc_counts_t.apply(lambda row: get_count_type(row, hnscc_sig_genes_up, hnscc_sig_genes_down), axis=1)"
   ]
  },
  {
   "cell_type": "code",
   "execution_count": 35,
   "metadata": {
    "colab": {},
    "colab_type": "code",
    "id": "jZvDRCa87sbr"
   },
   "outputs": [],
   "source": [
    "luad_counts_t = luad_counts.transpose()\n",
    "luad_counts_t['LUAD'] = luad_counts_t.apply(lambda row: get_count_type(row, luad_sig_genes_up, luad_sig_genes_down), axis=1)"
   ]
  },
  {
   "cell_type": "code",
   "execution_count": 36,
   "metadata": {
    "colab": {},
    "colab_type": "code",
    "id": "cnaTFPBl7vjn"
   },
   "outputs": [],
   "source": [
    "ovarian_counts_t = ovarian_counts.transpose()\n",
    "ovarian_counts_t['OVARIAN'] = ovarian_counts_t.apply(lambda row: get_count_type(row, ovarian_sig_genes_up, ovarian_sig_genes_down), axis=1)"
   ]
  },
  {
   "cell_type": "code",
   "execution_count": 37,
   "metadata": {
    "colab": {},
    "colab_type": "code",
    "id": "FCv63ucr7zHP"
   },
   "outputs": [],
   "source": [
    "ccrcc_counts_t = ccrcc_counts.transpose()\n",
    "ccrcc_counts_t['CCRCC'] = ccrcc_counts_t.apply(lambda row: get_count_type(row, ccrcc_sig_genes_up, ccrcc_sig_genes_down), axis=1)"
   ]
  },
  {
   "cell_type": "code",
   "execution_count": 39,
   "metadata": {
    "colab": {},
    "colab_type": "code",
    "id": "jmoCT1me-PxQ"
   },
   "outputs": [
    {
     "name": "stdout",
     "output_type": "stream",
     "text": [
      "                      AASS             ABCA13              ABCB1  \\\n",
      "        ENSG00000008311.14 ENSG00000179869.14 ENSG00000085563.14   \n",
      "high                    15                 14                 16   \n",
      "neutral                 93                 94                 92   \n",
      "low                      2                  2                  2   \n",
      "average          0.0973339           0.102518            0.10849   \n",
      "CCRCC                 high               high               high   \n",
      "\n",
      "                     ABCB4              ABCB5              ABCB8  \\\n",
      "        ENSG00000005471.15 ENSG00000004846.16 ENSG00000197150.12   \n",
      "high                    16                 14                 15   \n",
      "neutral                 92                 94                 92   \n",
      "low                      2                  2                  3   \n",
      "average            0.10849           0.102253          0.0932567   \n",
      "CCRCC                 high               high               high   \n",
      "\n",
      "                    ABCF2             ABHD11             ABLIM3  \\\n",
      "        ENSG00000033050.7 ENSG00000106077.18 ENSG00000173210.19   \n",
      "high                   15                 17                 38   \n",
      "neutral                92                 91                 72   \n",
      "low                     3                  2                  0   \n",
      "average         0.0942795            0.11139           0.203317   \n",
      "CCRCC                high               high               high   \n",
      "\n",
      "               AC002429.5  ...              ZNF92             ZNHIT1  \\\n",
      "        ENSG00000236197.3  ... ENSG00000146757.13 ENSG00000106400.11   \n",
      "high                   15  ...                 17                 15   \n",
      "neutral                93  ...                 91                 93   \n",
      "low                     2  ...                  2                  2   \n",
      "average           0.10664  ...           0.114263           0.106609   \n",
      "CCRCC                high  ...               high               high   \n",
      "\n",
      "                     ZNRF2                ZP3              ZPBP  \\\n",
      "        ENSG00000180233.10 ENSG00000188372.14 ENSG00000042813.7   \n",
      "high                    15                 17                15   \n",
      "neutral                 93                 92                93   \n",
      "low                      2                  1                 2   \n",
      "average           0.108195           0.111091          0.105714   \n",
      "CCRCC                 high               high              high   \n",
      "\n",
      "                    ZRSR1            ZSCAN21            ZSCAN25  \\\n",
      "        ENSG00000212643.2 ENSG00000166529.14 ENSG00000197037.10   \n",
      "high                   26                 15                 15   \n",
      "neutral                83                 93                 93   \n",
      "low                     1                  2                  2   \n",
      "average          0.142619           0.106609            0.10666   \n",
      "CCRCC                high               high               high   \n",
      "\n",
      "                   ZSWIM6                ZYX  \n",
      "        ENSG00000130449.5 ENSG00000159840.15  \n",
      "high                   12                 16  \n",
      "neutral                96                 92  \n",
      "low                     2                  2  \n",
      "average         0.0814978          0.0967964  \n",
      "CCRCC                high               high  \n",
      "\n",
      "[5 rows x 1597 columns]\n",
      "                     ABCD4            ABHD10            ABHD12B  \\\n",
      "        ENSG00000119688.20 ENSG00000144827.8 ENSG00000131969.14   \n",
      "high                     0                 0                  0   \n",
      "neutral                 71                84                 76   \n",
      "low                     39                26                 34   \n",
      "average          -0.138556        -0.0670247          -0.120137   \n",
      "CCRCC                  low               low                low   \n",
      "\n",
      "                  ABHD14A            ABHD14B              ABHD4  \\\n",
      "        ENSG00000248487.8 ENSG00000114779.19 ENSG00000100439.10   \n",
      "high                    0                  0                  0   \n",
      "neutral                21                 21                 81   \n",
      "low                    89                 89                 29   \n",
      "average         -0.332707          -0.332707          -0.105046   \n",
      "CCRCC                 low                low                low   \n",
      "\n",
      "                    ABHD5              ABHD6             ABI3BP  \\\n",
      "        ENSG00000011198.7 ENSG00000163686.14 ENSG00000154175.16   \n",
      "high                    0                  0                  0   \n",
      "neutral                22                 23                 82   \n",
      "low                    88                 87                 28   \n",
      "average          -0.32306          -0.321217         -0.0767543   \n",
      "CCRCC                 low                low                low   \n",
      "\n",
      "                     ACAA1  ...            ZNF660             ZNF662  \\\n",
      "        ENSG00000060971.17  ... ENSG00000144792.9 ENSG00000182983.14   \n",
      "high                     0  ...                 0                  0   \n",
      "neutral                 22  ...                22                 22   \n",
      "low                     88  ...                88                 88   \n",
      "average           -0.32306  ...         -0.328681           -0.32306   \n",
      "CCRCC                  low  ...               low                low   \n",
      "\n",
      "                   ZNF703           ZNF705G            ZNF717  \\\n",
      "        ENSG00000183779.6 ENSG00000215372.6 ENSG00000227124.8   \n",
      "high                    0                 0                 0   \n",
      "neutral                86                87                43   \n",
      "low                    24                23                67   \n",
      "average        -0.0889655          -0.10055         -0.236246   \n",
      "CCRCC                 low               low               low   \n",
      "\n",
      "                    ZNF80             ZNF839             ZNF852  \\\n",
      "        ENSG00000174255.6 ENSG00000022976.15 ENSG00000178917.15   \n",
      "high                    0                  0                  0   \n",
      "neutral                85                 72                 22   \n",
      "low                    25                 38                 88   \n",
      "average        -0.0619169          -0.133027           -0.32306   \n",
      "CCRCC                 low                low                low   \n",
      "\n",
      "                   ZNF860             ZPLD1  \n",
      "        ENSG00000197385.5 ENSG00000170044.8  \n",
      "high                    0                 0  \n",
      "neutral                22                82  \n",
      "low                    88                28  \n",
      "average         -0.322831        -0.0823269  \n",
      "CCRCC                 low               low  \n",
      "\n",
      "[5 rows x 1475 columns]\n"
     ]
    }
   ],
   "source": [
    "filter1 = ccrcc_counts_t.transpose().columns.get_level_values(level=0).isin(ccrcc_sig_genes_up.index.get_level_values(level=0))\n",
    "ccrcc_filtered_counts = ccrcc_counts_t.transpose().loc[:, filter1]\n",
    "filter2 = ccrcc_counts_t.transpose().columns.get_level_values(level=0).isin(ccrcc_sig_genes_down.index.get_level_values(level=0))\n",
    "\n",
    "ccrcc_filtered_counts_down = ccrcc_counts_t.transpose().loc[:, filter2]\n",
    "ccrcc_filtered_counts = ccrcc_filtered_counts.transpose().append(ccrcc_filtered_counts_down.transpose()).transpose()"
   ]
  },
  {
   "cell_type": "code",
   "execution_count": 40,
   "metadata": {
    "colab": {},
    "colab_type": "code",
    "id": "ORtvg2cHd_sc"
   },
   "outputs": [
    {
     "name": "stdout",
     "output_type": "stream",
     "text": [
      "       high neutral low    average CCRCC\n",
      "AASS     15      93   2  0.0973339  high\n",
      "ABCA13   14      94   2   0.102518  high\n",
      "ABCB1    16      92   2    0.10849  high\n",
      "ABCB4    16      92   2    0.10849  high\n",
      "ABCB5    14      94   2   0.102253  high\n",
      "...     ...     ...  ..        ...   ...\n",
      "ZNF80     0      85  25 -0.0619169   low\n",
      "ZNF839    0      72  38  -0.133027   low\n",
      "ZNF852    0      22  88   -0.32306   low\n",
      "ZNF860    0      22  88  -0.322831   low\n",
      "ZPLD1     0      82  28 -0.0823269   low\n",
      "\n",
      "[3054 rows x 5 columns]\n"
     ]
    }
   ],
   "source": [
    "ccrcc_filtered_counts_index = ccrcc_filtered_counts.columns.droplevel(level=1)\n",
    "ccrcc_filtered_counts.columns = ccrcc_filtered_counts_index\n",
    "ccrcc_filtered_counts_t = ccrcc_filtered_counts.transpose()\n",
    "ccrcc_filtered_counts_t = ccrcc_filtered_counts_t.loc[~ccrcc_filtered_counts_t.index.duplicated(keep='first')]\n",
    "print(ccrcc_filtered_counts_t)"
   ]
  },
  {
   "cell_type": "markdown",
   "metadata": {
    "colab_type": "text",
    "id": "Avi-SiK1_HP6"
   },
   "source": [
    "Set up Dataset"
   ]
  },
  {
   "cell_type": "code",
   "execution_count": 42,
   "metadata": {
    "colab": {},
    "colab_type": "code",
    "id": "W46FW6Wd_cAy"
   },
   "outputs": [],
   "source": [
    "data = pd.DataFrame(data=luad_counts_t['LUAD'])\n",
    "data['BRCA'] = brca_filtered_counts_t['BRCA']\n",
    "data['HNSCC'] = hnscc_counts_t['HNSCC']\n",
    "data['OVARIAN'] = ovarian_counts_t['OVARIAN']\n",
    "data['ENDO'] = en_counts_t['ENDO']\n",
    "data['GBM'] = gbm_counts_t['GBM']\n",
    "data['CCRCC'] = ccrcc_filtered_counts_t['CCRCC']\n",
    "data.fillna(\"normal\", inplace=True)"
   ]
  },
  {
   "cell_type": "code",
   "execution_count": 44,
   "metadata": {
    "colab": {},
    "colab_type": "code",
    "id": "e-MUHW-2uwop"
   },
   "outputs": [],
   "source": [
    "data.transpose().to_csv('all_data.csv')"
   ]
  },
  {
   "cell_type": "code",
   "execution_count": 61,
   "metadata": {
    "colab": {},
    "colab_type": "code",
    "id": "PmLO2DYx_rQF"
   },
   "outputs": [
    {
     "name": "stdout",
     "output_type": "stream",
     "text": [
      "         LUAD    BRCA   HNSCC OVARIAN    ENDO     GBM   CCRCC     chromosome\n",
      "AARD     high    high    high    high    high  normal  normal   Chromosome 8\n",
      "ABHD16B  high  normal  normal  normal    high    high  normal  Chromosome 20\n",
      "ABRA     high    high    high    high  normal  normal  normal   Chromosome 4\n",
      "ADCY8    high    high    high    high    high  normal  normal   Chromosome 8\n",
      "ADRM1    high  normal  normal  normal    high    high  normal  Chromosome 20\n",
      "...       ...     ...     ...     ...     ...     ...     ...            ...\n",
      "USP9Y     low  normal     low  normal    high    high     low   Chromosome Y\n",
      "UTY       low  normal     low  normal    high    high     low   Chromosome Y\n",
      "VCY       low  normal     low  normal    high    high     low  Chromosome 19\n",
      "VCY1B     low  normal     low  normal    high    high     low   Chromosome Y\n",
      "ZFY       low  normal     low  normal    high  normal     low   Chromosome Y\n",
      "\n",
      "[396 rows x 8 columns]\n"
     ]
    }
   ],
   "source": [
    "filter1 = data.transpose().columns.get_level_values(\"Name\").isin(sig_genes_up)\n",
    "filter2 = data.transpose().columns.get_level_values(\"Name\").isin(sig_genes_down)\n",
    "data_up = data.transpose().loc[:, filter1]\n",
    "data_down = data.transpose().loc[:, filter2]\n",
    "data_down_and_up = data_up.transpose().append(data_down.transpose())\n",
    "data_down_and_up = data_down_and_up.join(uniprot_chromosomes, how='inner')\n",
    "print(data_down_and_up)"
   ]
  },
  {
   "cell_type": "code",
   "execution_count": 81,
   "metadata": {
    "colab": {},
    "colab_type": "code",
    "id": "bmiJL9qweYuK"
   },
   "outputs": [],
   "source": [
    "data_down_and_up.to_csv('up_or_down.csv')"
   ]
  }
 ],
 "metadata": {
  "accelerator": "GPU",
  "colab": {
   "collapsed_sections": [],
   "name": "Figure1",
   "provenance": []
  },
  "kernelspec": {
   "display_name": "Python 3",
   "language": "python",
   "name": "python3"
  },
  "language_info": {
   "codemirror_mode": {
    "name": "ipython",
    "version": 3
   },
   "file_extension": ".py",
   "mimetype": "text/x-python",
   "name": "python",
   "nbconvert_exporter": "python",
   "pygments_lexer": "ipython3",
   "version": "3.7.3"
  }
 },
 "nbformat": 4,
 "nbformat_minor": 1
}
