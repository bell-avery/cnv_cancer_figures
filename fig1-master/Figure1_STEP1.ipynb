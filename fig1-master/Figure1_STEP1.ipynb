{
  "nbformat": 4,
  "nbformat_minor": 0,
  "metadata": {
    "colab": {
      "name": "Copy of create_genes_metadata_dict.ipynb",
      "provenance": [],
      "private_outputs": true,
      "collapsed_sections": []
    },
    "kernelspec": {
      "name": "python3",
      "display_name": "Python 3"
    },
    "accelerator": "GPU"
  },
  "cells": [
    {
      "cell_type": "markdown",
      "metadata": {
        "id": "0MP0bGrkWwAU",
        "colab_type": "text"
      },
      "source": [
        "### Install necessary packages"
      ]
    },
    {
      "cell_type": "code",
      "metadata": {
        "id": "inWWIPBgVxX8",
        "colab_type": "code",
        "colab": {}
      },
      "source": [
        "!pip install cptac\n",
        "!pip install uniprot\n",
        "!pip install xmltodict\n",
        "!pip3 install tqdm"
      ],
      "execution_count": 0,
      "outputs": []
    },
    {
      "cell_type": "markdown",
      "metadata": {
        "id": "15Zotk2fWy7k",
        "colab_type": "text"
      },
      "source": [
        "### Import libraries"
      ]
    },
    {
      "cell_type": "code",
      "metadata": {
        "id": "726GVNqu9c45",
        "colab_type": "code",
        "colab": {}
      },
      "source": [
        "# Imports all the standard libraries we will need\n",
        "import pandas as pd\n",
        "import matplotlib.pyplot as plt\n",
        "import seaborn as sns\n",
        "import cptac\n",
        "import cptac.utils as ut\n",
        "import uniprot\n",
        "import pprint\n",
        "import urllib.parse\n",
        "import urllib.request\n",
        "import json\n",
        "import xmltodict\n",
        "import urllib3\n",
        "from tqdm import tqdm\n",
        "import warnings"
      ],
      "execution_count": 0,
      "outputs": []
    },
    {
      "cell_type": "markdown",
      "metadata": {
        "id": "FRZjdG_0W119",
        "colab_type": "text"
      },
      "source": [
        "### Mount drive"
      ]
    },
    {
      "cell_type": "code",
      "metadata": {
        "id": "PyHaKPoSWLnG",
        "colab_type": "code",
        "colab": {}
      },
      "source": [
        "from google.colab import drive\n",
        "drive.mount('/content/drive')\n",
        "\n",
        "current_dir = '/content/drive/My Drive/BIO 465 Group Project/'"
      ],
      "execution_count": 0,
      "outputs": []
    },
    {
      "cell_type": "markdown",
      "metadata": {
        "id": "KUd_LXjvW4kf",
        "colab_type": "text"
      },
      "source": [
        "### Get representative dataset"
      ]
    },
    {
      "cell_type": "code",
      "metadata": {
        "id": "FDeVlry6V-Cj",
        "colab_type": "code",
        "colab": {}
      },
      "source": [
        "cptac.download(dataset=\"endometrial\")\n",
        "en = cptac.Endometrial()\n",
        "dat = en.get_CNV()\n",
        "dat.head(10)"
      ],
      "execution_count": 0,
      "outputs": []
    },
    {
      "cell_type": "markdown",
      "metadata": {
        "id": "y_CIkPuOW7VR",
        "colab_type": "text"
      },
      "source": [
        "### Functions"
      ]
    },
    {
      "cell_type": "code",
      "metadata": {
        "id": "cHWrL7VzoAel",
        "colab_type": "code",
        "colab": {}
      },
      "source": [
        "def find_in_dict(dict, key, addtl_key='', addtl_key2=''):\n",
        "  found = False\n",
        "  entries = []\n",
        "  for d in dict:\n",
        "    if d['@type'] == key:\n",
        "      found = True\n",
        "      if addtl_key == '':\n",
        "        entries.append(d)\n",
        "      elif addtl_key2 == '':\n",
        "        if type(d) is list:\n",
        "          for i in d:\n",
        "            entries.append(i[addtl_key])\n",
        "        else:\n",
        "          entries.append(d[addtl_key])\n",
        "      else:\n",
        "        if type(d[addtl_key]) is list:\n",
        "          for i in d[addtl_key]:\n",
        "            entries.append(i[addtl_key2])\n",
        "        else:\n",
        "          entries.append(d[addtl_key][addtl_key2])\n",
        "    elif found:\n",
        "      break\n",
        "  return entries"
      ],
      "execution_count": 0,
      "outputs": []
    },
    {
      "cell_type": "code",
      "metadata": {
        "id": "s0hchL6swpyF",
        "colab_type": "code",
        "colab": {}
      },
      "source": [
        "def get_gene_data(gene):\n",
        "  url = 'https://www.uniprot.org/uniprot/'\n",
        "\n",
        "  params = {\n",
        "  'from': 'GENENAME',\n",
        "  'to': 'ACC',\n",
        "  'format': 'list',\n",
        "  'query': '{}+organism:human+reviewed:yes'.format(gene),\n",
        "  'sort': 'score'\n",
        "  }\n",
        "\n",
        "  data = urllib.parse.urlencode(params)\n",
        "  data = data.encode('utf-8')\n",
        "  req = urllib.request.Request(url, data)\n",
        "  with urllib.request.urlopen(req) as f:\n",
        "    response = f.read()\n",
        "  this_id = response.decode('utf-8').split('\\n')[0]\n",
        "\n",
        "  #print(this_id)\n",
        "\n",
        "  with warnings.catch_warnings():\n",
        "    warnings.simplefilter(\"ignore\")\n",
        "    http = urllib3.PoolManager()\n",
        "    response2 = http.request('GET', url + this_id + '.xml')\n",
        "    \n",
        "  #print(response2.data)\n",
        "  data = xmltodict.parse(response2.data)\n",
        "\n",
        "  if 'uniprot' not in data.keys():\n",
        "    return \"No data\"\n",
        "\n",
        "  #print(data)\n",
        "\n",
        "  # create little dictionary\n",
        "  this_gene = {\n",
        "      'uniprot': this_id,\n",
        "      'protein': data['uniprot']['entry']['protein']['recommendedName']['fullName'],\n",
        "      'function': find_in_dict(data['uniprot']['entry']['dbReference'], 'Reactome', '@id'),\n",
        "      'chromosome': find_in_dict(data['uniprot']['entry']['dbReference'], 'Proteomes', 'property', '@value')#,\n",
        "      #'location': find_in_dict(data['uniprot']['entry']['comment'], 'subcellular location', 'subcellularLocation', 'loc ation'),\n",
        "      #'tissue': find_in_dict(data['uniprot']['entry']['comment'], 'tissue specificity', 'text'),\n",
        "      #'isoforms': find_in_dict(data['uniprot']['entry']['comment'], 'alternative products', 'isoform', 'id')\n",
        "  }\n",
        "\n",
        "  return this_gene"
      ],
      "execution_count": 0,
      "outputs": []
    },
    {
      "cell_type": "code",
      "metadata": {
        "id": "0PmlxQ8GySkj",
        "colab_type": "code",
        "colab": {}
      },
      "source": [
        "# df.describe().T : statistics for each column\n",
        "\n",
        "with open(current_dir + 'uniprot_dict.json') as json_file:\n",
        "    all_genes = json.load(json_file)"
      ],
      "execution_count": 0,
      "outputs": []
    },
    {
      "cell_type": "markdown",
      "metadata": {
        "id": "BLr8dsGGrXZP",
        "colab_type": "text"
      },
      "source": [
        "### Generate file"
      ]
    },
    {
      "cell_type": "code",
      "metadata": {
        "id": "8ThjdECwWi6R",
        "colab_type": "code",
        "colab": {}
      },
      "source": [
        "start = 0\n",
        "loop = tqdm(total=len(dat.columns), position=0, leave=False)\n",
        "\n",
        "for i in range(len(dat.columns)):\n",
        "  start = i\n",
        "  loop.update(1)\n",
        "  #loop.set_description('gene:{}\\n'.format(dat.columns[i]))\n",
        "  if dat.columns[i] not in all_genes.keys():\n",
        "    break\n",
        "\n",
        "\n",
        "for i in range(start, len(dat.columns)):\n",
        "  all_genes[dat.columns[i]] = get_gene_data(dat.columns[i])\n",
        "\n",
        "  if i % 100 == 0:\n",
        "    json_f = json.dumps(all_genes)\n",
        "    with open(current_dir + 'uniprot_dict.json', 'w+') as f:\n",
        "      f.write(json_f)\n",
        "\n",
        "  loop.set_description('gene:{}'.format(dat.columns[i]))\n",
        "  loop.update(1)\n",
        "loop.close()\n",
        "\n",
        "# add to big dictionary\n",
        "#all_genes[col] = this_gene\n",
        "\n",
        "# save to file\n",
        "#json_f = json.dumps(all_genes)\n",
        "#with open(current_dir + 'uniprot_dict.json', 'w+') as f:\n",
        "#  f.write(json_f)\n"
      ],
      "execution_count": 0,
      "outputs": []
    }
  ]
}