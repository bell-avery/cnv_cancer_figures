{
  "nbformat": 4,
  "nbformat_minor": 0,
  "metadata": {
    "colab": {
      "name": "CNV_Tables.ipynb",
      "provenance": [],
      "collapsed_sections": [],
      "include_colab_link": true
    },
    "kernelspec": {
      "name": "python3",
      "display_name": "Python 3"
    }
  },
  "cells": [
    {
      "cell_type": "markdown",
      "metadata": {
        "id": "view-in-github",
        "colab_type": "text"
      },
      "source": [
        "<a href=\"https://colab.research.google.com/github/bell-avery/fig2/blob/master/CNV_Tables.ipynb\" target=\"_parent\"><img src=\"https://colab.research.google.com/assets/colab-badge.svg\" alt=\"Open In Colab\"/></a>"
      ]
    },
    {
      "cell_type": "code",
      "metadata": {
        "id": "Rb_6cT8KzKNV",
        "colab_type": "code",
        "colab": {}
      },
      "source": [
        "!pip install cptac\n",
        "!pip install xlsxwriter"
      ],
      "execution_count": 0,
      "outputs": []
    },
    {
      "cell_type": "code",
      "metadata": {
        "id": "6Q19ryeTwn9Z",
        "colab_type": "code",
        "colab": {}
      },
      "source": [
        "# Imports all the standard libraries we will need\n",
        "import pandas as pd\n",
        "import matplotlib.pyplot as plt\n",
        "import seaborn as sns\n",
        "import numpy as np\n",
        "import cptac\n",
        "import xlsxwriter"
      ],
      "execution_count": 0,
      "outputs": []
    },
    {
      "cell_type": "code",
      "metadata": {
        "id": "PoPp-LAWxmqX",
        "colab_type": "code",
        "colab": {}
      },
      "source": [
        "def CountFrequency(my_list): \n",
        "      \n",
        "    # Creating an empty dictionary  \n",
        "    freq = {} \n",
        "    for items in my_list: \n",
        "        freq[items] = my_list.count(items) \n",
        "\n",
        "    sig = []\n",
        "      \n",
        "    for key, value in freq.items(): \n",
        "      if value > 2:\n",
        "        sig.append(key)\n",
        "        print (f'{key}: {value}') \n",
        "    return sig"
      ],
      "execution_count": 0,
      "outputs": []
    },
    {
      "cell_type": "code",
      "metadata": {
        "id": "mlp0wN26zCnT",
        "colab_type": "code",
        "colab": {}
      },
      "source": [
        "def get_counts_and_average(data):\n",
        "  df = pd.DataFrame(data = separate(.3,-.2,data), index = [\"high\", \"neutral\", \"low\"])\n",
        "  df = df.append(pd.DataFrame(data.mean(0), columns=['average']).transpose(), sort=True)\n",
        "  return df"
      ],
      "execution_count": 0,
      "outputs": []
    },
    {
      "cell_type": "code",
      "metadata": {
        "id": "OCZyLiMyzDJj",
        "colab_type": "code",
        "colab": {}
      },
      "source": [
        "def separate(hiCut, lowCut, data):\n",
        "  sepDict = dict()\n",
        "  for column in data:\n",
        "    numHi = 0\n",
        "    numLow = 0\n",
        "    numNeu = 0\n",
        "    for i in data[column]:\n",
        "      if i > hiCut:\n",
        "        numHi += 1\n",
        "      elif i < lowCut:\n",
        "        numLow += 1\n",
        "      else:\n",
        "        numNeu += 1 \n",
        "    sepDict[column] = [numHi, numNeu, numLow]\n",
        "  return sepDict"
      ],
      "execution_count": 0,
      "outputs": []
    },
    {
      "cell_type": "code",
      "metadata": {
        "id": "FcfptVbYy-o1",
        "colab_type": "code",
        "colab": {}
      },
      "source": [
        "def get_sig_genes(data):\n",
        "  q25, q75 = np.quantile(data['high'], [0.25, 0.75])\n",
        "  average_up = q75 + ((q75 - q25) * 1.5 )\n",
        "  q25, q75 = np.quantile(data['low'], [0.25, 0.75])\n",
        "  average_down = q75 + ((q75 - q25) * 1.5 )\n",
        "\n",
        "  print(average_up)\n",
        "  print(average_down)\n",
        "  data_up = data['high'] > average_up\n",
        "  data_down = data['low'] > average_down\n",
        "  data_sig = data_up | data_down\n",
        "  sig_genes = data[data_sig]\n",
        "  return data[data_up], data[data_down]"
      ],
      "execution_count": 0,
      "outputs": []
    },
    {
      "cell_type": "code",
      "metadata": {
        "id": "D-Z2H6SXy5sO",
        "colab_type": "code",
        "colab": {}
      },
      "source": [
        "cptac.download(dataset=\"endometrial\")\n",
        "en = cptac.Endometrial()\n",
        "data = en.get_CNV()\n",
        "en_counts = get_counts_and_average(data)"
      ],
      "execution_count": 0,
      "outputs": []
    },
    {
      "cell_type": "code",
      "metadata": {
        "id": "4XtgTOYTyvtP",
        "colab_type": "code",
        "colab": {}
      },
      "source": [
        "cptac.download(dataset=\"gbm\")\n",
        "gbm = cptac.Gbm()\n",
        "data = gbm.get_CNV()\n",
        "gbm_counts = get_counts_and_average(data)"
      ],
      "execution_count": 0,
      "outputs": []
    },
    {
      "cell_type": "code",
      "metadata": {
        "id": "N75RPGPvyjkb",
        "colab_type": "code",
        "colab": {}
      },
      "source": [
        "cptac.download(dataset=\"brca\")\n",
        "brca = cptac.Brca()\n",
        "data = brca.get_CNV()\n",
        "brca_counts = get_counts_and_average(data)"
      ],
      "execution_count": 0,
      "outputs": []
    },
    {
      "cell_type": "code",
      "metadata": {
        "id": "aXPZbMHIyWzG",
        "colab_type": "code",
        "colab": {}
      },
      "source": [
        "cptac.download(dataset=\"hnscc\")\n",
        "hnscc = cptac.Hnscc()\n",
        "data = hnscc.get_CNV()\n",
        "hnscc_counts = get_counts_and_average(data)"
      ],
      "execution_count": 0,
      "outputs": []
    },
    {
      "cell_type": "code",
      "metadata": {
        "id": "pWEjXHeVyPV8",
        "colab_type": "code",
        "colab": {}
      },
      "source": [
        "cptac.download(dataset=\"luad\")\n",
        "luad = cptac.Luad()\n",
        "data = luad.get_CNV()\n",
        "luad_counts = get_counts_and_average(data)"
      ],
      "execution_count": 0,
      "outputs": []
    },
    {
      "cell_type": "code",
      "metadata": {
        "id": "dRRrytERyGX5",
        "colab_type": "code",
        "colab": {}
      },
      "source": [
        "cptac.download(dataset=\"ovarian\")\n",
        "ovarian = cptac.Ovarian()\n",
        "data = ovarian.get_CNV()\n",
        "ovarian_counts = get_counts_and_average(data)"
      ],
      "execution_count": 0,
      "outputs": []
    },
    {
      "cell_type": "code",
      "metadata": {
        "id": "U0YpBFuPyCgG",
        "colab_type": "code",
        "colab": {}
      },
      "source": [
        "cptac.download(dataset=\"ccrcc\")\n",
        "ccrcc = cptac.Ccrcc()\n",
        "data = ccrcc.get_CNV()\n",
        "ccrcc_counts = get_counts_and_average(data)"
      ],
      "execution_count": 0,
      "outputs": []
    },
    {
      "cell_type": "code",
      "metadata": {
        "id": "fpAZuqD9yzzf",
        "colab_type": "code",
        "colab": {}
      },
      "source": [
        "en_sig_genes_up, en_sig_genes_down = get_sig_genes(en_counts.transpose())"
      ],
      "execution_count": 0,
      "outputs": []
    },
    {
      "cell_type": "code",
      "metadata": {
        "id": "v6nrEACEyq2H",
        "colab_type": "code",
        "colab": {}
      },
      "source": [
        "gbm_sig_genes_up, gbm_sig_genes_down = get_sig_genes(gbm_counts.transpose())"
      ],
      "execution_count": 0,
      "outputs": []
    },
    {
      "cell_type": "code",
      "metadata": {
        "id": "1SZ4rCNcynY4",
        "colab_type": "code",
        "colab": {}
      },
      "source": [
        "brca_sig_genes_up, brca_sig_genes_down = get_sig_genes(brca_counts.transpose())"
      ],
      "execution_count": 0,
      "outputs": []
    },
    {
      "cell_type": "code",
      "metadata": {
        "id": "vnMn7bnzyXwP",
        "colab_type": "code",
        "colab": {}
      },
      "source": [
        "hnscc_sig_genes_up, hnscc_sig_genes_down = get_sig_genes(hnscc_counts.transpose())"
      ],
      "execution_count": 0,
      "outputs": []
    },
    {
      "cell_type": "code",
      "metadata": {
        "id": "ix_X1cfrySuo",
        "colab_type": "code",
        "colab": {}
      },
      "source": [
        "luad_sig_genes_up, luad_sig_genes_down = get_sig_genes(luad_counts.transpose())"
      ],
      "execution_count": 0,
      "outputs": []
    },
    {
      "cell_type": "code",
      "metadata": {
        "id": "xWqmfedLyL52",
        "colab_type": "code",
        "colab": {}
      },
      "source": [
        "ovarian_sig_genes_up, ovarian_sig_genes_down = get_sig_genes(ovarian_counts.transpose())"
      ],
      "execution_count": 0,
      "outputs": []
    },
    {
      "cell_type": "code",
      "metadata": {
        "id": "PnC8V9cix6mH",
        "colab_type": "code",
        "colab": {}
      },
      "source": [
        "ccrcc_sig_genes_up, ccrcc_sig_genes_down = get_sig_genes(ccrcc_counts.transpose())"
      ],
      "execution_count": 0,
      "outputs": []
    },
    {
      "cell_type": "code",
      "metadata": {
        "id": "Ae5sMsKGxicB",
        "colab_type": "code",
        "colab": {}
      },
      "source": [
        "sig_genes_up = CountFrequency(list(gbm_sig_genes_up.index) + list(hnscc_sig_genes_up.index) + list(luad_sig_genes_up.index) + list(ovarian_sig_genes_up.index) + list(ccrcc_sig_genes_up.index) + list(brca_sig_genes_up.index) + list(en_sig_genes_up.index))"
      ],
      "execution_count": 0,
      "outputs": []
    },
    {
      "cell_type": "code",
      "metadata": {
        "id": "AexzauhMxejV",
        "colab_type": "code",
        "colab": {}
      },
      "source": [
        "sig_genes_down = CountFrequency(list(gbm_sig_genes_down.index) + list(hnscc_sig_genes_down.index) + list(luad_sig_genes_down.index) + list(ovarian_sig_genes_down.index) + list(ccrcc_sig_genes_down.index) + list(brca_sig_genes_down.index) + list(en_sig_genes_down.index))"
      ],
      "execution_count": 0,
      "outputs": []
    },
    {
      "cell_type": "code",
      "metadata": {
        "id": "4Au1bF8ow4mG",
        "colab_type": "code",
        "colab": {}
      },
      "source": [
        "workbook3 = pd.ExcelWriter('ccrcc_CNV_down.xlsx', engine='xlsxwriter')\n",
        "ccrcc_CNV_down.to_excel(workbook3)\n",
        "workbook3.save()"
      ],
      "execution_count": 0,
      "outputs": []
    },
    {
      "cell_type": "code",
      "metadata": {
        "id": "PouhWImfw5PW",
        "colab_type": "code",
        "colab": {}
      },
      "source": [
        "filter1 = gbm.get_CNV().columns.get_level_values(\"Name\").isin(sig_genes_down)\n",
        "CNV_down = gbm.get_CNV().loc[:, filter1]\n",
        "workbook3 = pd.ExcelWriter('gbm_CNV_down.xlsx', engine='xlsxwriter')\n",
        "CNV_down.to_excel(workbook3)\n",
        "workbook3.save()"
      ],
      "execution_count": 0,
      "outputs": []
    },
    {
      "cell_type": "code",
      "metadata": {
        "id": "9Fucv3eJw8hd",
        "colab_type": "code",
        "colab": {}
      },
      "source": [
        "filter1 = brca.get_CNV().columns.get_level_values(\"Name\").isin(sig_genes_down)\n",
        "CNV_down = brca.get_CNV().loc[:, filter1]\n",
        "workbook3 = pd.ExcelWriter('brca_CNV_down.xlsx', engine='xlsxwriter')\n",
        "CNV_down.to_excel(workbook3)\n",
        "workbook3.save()"
      ],
      "execution_count": 0,
      "outputs": []
    },
    {
      "cell_type": "code",
      "metadata": {
        "id": "JR5HWTlcxApV",
        "colab_type": "code",
        "colab": {}
      },
      "source": [
        "filter1 = luad.get_CNV().columns.get_level_values(\"Name\").isin(sig_genes_down)\n",
        "CNV_down = luad.get_CNV().loc[:, filter1]\n",
        "workbook3 = pd.ExcelWriter('luad_CNV_down.xlsx', engine='xlsxwriter')\n",
        "CNV_down.to_excel(workbook3)\n",
        "workbook3.save()"
      ],
      "execution_count": 0,
      "outputs": []
    },
    {
      "cell_type": "code",
      "metadata": {
        "id": "RnHcEh3_xCCI",
        "colab_type": "code",
        "colab": {}
      },
      "source": [
        "filter1 = en.get_CNV().columns.get_level_values(\"Name\").isin(sig_genes_down)\n",
        "CNV_down = en.get_CNV().loc[:, filter1]\n",
        "workbook3 = pd.ExcelWriter('en_CNV_down.xlsx', engine='xlsxwriter')\n",
        "CNV_down.to_excel(workbook3)\n",
        "workbook3.save()"
      ],
      "execution_count": 0,
      "outputs": []
    },
    {
      "cell_type": "code",
      "metadata": {
        "id": "nilCiUbdxDa4",
        "colab_type": "code",
        "colab": {}
      },
      "source": [
        "filter1 = hnscc.get_CNV().columns.get_level_values(\"Name\").isin(sig_genes_down)\n",
        "CNV_down = hnscc.get_CNV().loc[:, filter1]\n",
        "workbook3 = pd.ExcelWriter('hnscc_CNV_down.xlsx', engine='xlsxwriter')\n",
        "CNV_down.to_excel(workbook3)\n",
        "workbook3.save()"
      ],
      "execution_count": 0,
      "outputs": []
    },
    {
      "cell_type": "code",
      "metadata": {
        "id": "mrA5_SZyxGMz",
        "colab_type": "code",
        "colab": {}
      },
      "source": [
        "filter1 = ovarian.get_CNV().columns.get_level_values(\"Name\").isin(sig_genes_down)\n",
        "CNV_down = ovarian.get_CNV().loc[:, filter1]\n",
        "workbook3 = pd.ExcelWriter('ovarian_CNV_down.xlsx', engine='xlsxwriter')\n",
        "CNV_down.to_excel(workbook3)\n",
        "workbook3.save()"
      ],
      "execution_count": 0,
      "outputs": []
    },
    {
      "cell_type": "code",
      "metadata": {
        "id": "e5upndMPxH9W",
        "colab_type": "code",
        "colab": {}
      },
      "source": [
        "filter1 = gbm.get_CNV().columns.get_level_values(\"Name\").isin(sig_genes_up)\n",
        "CNV_down = gbm.get_CNV().loc[:, filter1]\n",
        "workbook3 = pd.ExcelWriter('gbm_CNV_up.xlsx', engine='xlsxwriter')\n",
        "CNV_down.to_excel(workbook3)\n",
        "workbook3.save()"
      ],
      "execution_count": 0,
      "outputs": []
    },
    {
      "cell_type": "code",
      "metadata": {
        "id": "SD26PIR5xJcd",
        "colab_type": "code",
        "colab": {}
      },
      "source": [
        "filter1 = brca.get_CNV().columns.get_level_values(\"Name\").isin(sig_genes_up)\n",
        "CNV_down = brca.get_CNV().loc[:, filter1]\n",
        "workbook3 = pd.ExcelWriter('brca_CNV_up.xlsx', engine='xlsxwriter')\n",
        "CNV_down.to_excel(workbook3)\n",
        "workbook3.save()"
      ],
      "execution_count": 0,
      "outputs": []
    },
    {
      "cell_type": "code",
      "metadata": {
        "id": "Liih-QEVxLTg",
        "colab_type": "code",
        "colab": {}
      },
      "source": [
        "filter1 = luad.get_CNV().columns.get_level_values(\"Name\").isin(sig_genes_up)\n",
        "CNV_down = luad.get_CNV().loc[:, filter1]\n",
        "workbook3 = pd.ExcelWriter('luad_CNV_up.xlsx', engine='xlsxwriter')\n",
        "CNV_down.to_excel(workbook3)\n",
        "workbook3.save()"
      ],
      "execution_count": 0,
      "outputs": []
    },
    {
      "cell_type": "code",
      "metadata": {
        "id": "m3MXsZMDxOF0",
        "colab_type": "code",
        "colab": {}
      },
      "source": [
        "filter1 = en.get_CNV().columns.get_level_values(\"Name\").isin(sig_genes_up)\n",
        "CNV_down = en.get_CNV().loc[:, filter1]\n",
        "workbook3 = pd.ExcelWriter('en_CNV_up.xlsx', engine='xlsxwriter')\n",
        "CNV_down.to_excel(workbook3)\n",
        "workbook3.save()"
      ],
      "execution_count": 0,
      "outputs": []
    },
    {
      "cell_type": "code",
      "metadata": {
        "id": "QhtRZJTnxPYr",
        "colab_type": "code",
        "colab": {}
      },
      "source": [
        "filter1 = hnscc.get_CNV().columns.get_level_values(\"Name\").isin(sig_genes_up)\n",
        "CNV_down = hnscc.get_CNV().loc[:, filter1]\n",
        "workbook3 = pd.ExcelWriter('hnscc_CNV_up.xlsx', engine='xlsxwriter')\n",
        "CNV_down.to_excel(workbook3)\n",
        "workbook3.save()"
      ],
      "execution_count": 0,
      "outputs": []
    },
    {
      "cell_type": "code",
      "metadata": {
        "id": "aAPksl2LxRRm",
        "colab_type": "code",
        "colab": {}
      },
      "source": [
        "filter1 = ovarian.get_CNV().columns.get_level_values(\"Name\").isin(sig_genes_up)\n",
        "CNV_down = ovarian.get_CNV().loc[:, filter1]\n",
        "workbook3 = pd.ExcelWriter('ovarian_CNV_up.xlsx', engine='xlsxwriter')\n",
        "CNV_down.to_excel(workbook3)\n",
        "workbook3.save()"
      ],
      "execution_count": 0,
      "outputs": []
    },
    {
      "cell_type": "code",
      "metadata": {
        "id": "aS0VDVHZxSyq",
        "colab_type": "code",
        "colab": {}
      },
      "source": [
        "filter1 = ccrcc.get_CNV().columns.get_level_values(\"Name\").isin(sig_genes_up)\n",
        "CNV_down = ccrcc.get_CNV().loc[:, filter1]\n",
        "workbook3 = pd.ExcelWriter('ccrcc_CNV_up.xlsx', engine='xlsxwriter')\n",
        "CNV_down.to_excel(workbook3)\n",
        "workbook3.save()"
      ],
      "execution_count": 0,
      "outputs": []
    }
  ]
}
