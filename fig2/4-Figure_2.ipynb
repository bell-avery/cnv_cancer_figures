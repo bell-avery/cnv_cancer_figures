{
  "nbformat": 4,
  "nbformat_minor": 0,
  "metadata": {
    "colab": {
      "name": "Figure 2.ipynb",
      "provenance": [],
      "authorship_tag": "ABX9TyPlFtSB56PdnNqNxnaDlZWE",
      "include_colab_link": true
    },
    "kernelspec": {
      "name": "python3",
      "display_name": "Python 3"
    }
  },
  "cells": [
    {
      "cell_type": "markdown",
      "metadata": {
        "id": "view-in-github",
        "colab_type": "text"
      },
      "source": [
        "<a href=\"https://colab.research.google.com/github/bell-avery/fig2/blob/master/Figure_2.ipynb\" target=\"_parent\"><img src=\"https://colab.research.google.com/assets/colab-badge.svg\" alt=\"Open In Colab\"/></a>"
      ]
    },
    {
      "cell_type": "code",
      "metadata": {
        "id": "aTD5oyxQqCYm",
        "colab_type": "code",
        "colab": {}
      },
      "source": [
        "import pandas as pd\n",
        "from google.colab import drive\n",
        "import matplotlib.pyplot as plt\n",
        "import glob, os\n",
        "import numpy as np\n",
        "import seaborn as sns"
      ],
      "execution_count": 0,
      "outputs": []
    },
    {
      "cell_type": "code",
      "metadata": {
        "id": "GrkN4Gq5qNRb",
        "colab_type": "code",
        "colab": {}
      },
      "source": [
        "up_regress = pd.DataFrame({})\n",
        "\n",
        "for f in os.listdir('BonCorrect'):\n",
        "  if f.find('up') > 0:\n",
        "    this_tsv = pd.read_csv('BonCorrect/' + f, delimiter='\\t', encoding='utf-8')\n",
        "    cancer_type = f.split('_')[0]\n",
        "    this_tsv['cancer_type'] = [cancer_type for _ in range(this_tsv.shape[0])]\n",
        "    up_regress = pd.concat([up_regress, this_tsv])\n",
        "\n",
        "up_regress.head()"
      ],
      "execution_count": 0,
      "outputs": []
    },
    {
      "cell_type": "code",
      "metadata": {
        "id": "Heg1hZFYqQ-T",
        "colab_type": "code",
        "colab": {}
      },
      "source": [
        "up_cnv = {}\n",
        "\n",
        "for f in os.listdir('CNV Tables'):\n",
        "  if f.find('.txt') > 0 and f.find('up') > 0:\n",
        "    this_tsv = pd.read_csv('CNV Tables/' + f, delimiter='\\t', encoding='utf-8', index_col=0)\n",
        "    cancer_type = f.split('_')[0]\n",
        "    up_cnv[cancer_type] = this_tsv\n",
        "\n",
        "print(up_cnv)"
      ],
      "execution_count": 0,
      "outputs": []
    },
    {
      "cell_type": "code",
      "metadata": {
        "id": "vkRB-C_dqW-Y",
        "colab_type": "code",
        "colab": {}
      },
      "source": [
        "up_protein = {}\n",
        "\n",
        "for f in os.listdir('Protein tables'):\n",
        "  this_tsv = pd.read_csv('Protein tables/' + f, delimiter='\\t', encoding='utf-8')\n",
        "  cancer_type = f.split('ProData')[0]\n",
        "  if 'Patient_ID' in this_tsv.columns:\n",
        "    this_tsv = this_tsv.set_index('Patient_ID')\n",
        "  else:\n",
        "    this_tsv = this_tsv.set_index('Name')\n",
        "  up_protein[cancer_type] = this_tsv\n",
        "\n",
        "print(up_protein)"
      ],
      "execution_count": 0,
      "outputs": []
    },
    {
      "cell_type": "code",
      "metadata": {
        "id": "KDuC0_kuqh1i",
        "colab_type": "code",
        "colab": {}
      },
      "source": [
        "regress_pivot = up_regress[['CNV', 'Protien', 'slope', 'cancer_type']]\n",
        "regress_pivot['gene_prot_pair'] = regress_pivot[['CNV', 'Protien']].apply(lambda x: '/'.join(x.dropna().astype(str).values), axis=1)\n",
        "regress_pivot = regress_pivot.pivot(index='cancer_type',columns='gene_prot_pair', values='slope')\n",
        "\n",
        "sig_regress_pivot = regress_pivot.loc[:, regress_pivot.isna().sum() < 2]\n",
        "sig_regress_pivot = sig_regress_pivot.dropna()"
      ],
      "execution_count": 0,
      "outputs": []
    },
    {
      "cell_type": "code",
      "metadata": {
        "id": "inyQtA6AqnY0",
        "colab_type": "code",
        "colab": {}
      },
      "source": [
        "sns.clustermap(sig_regress_pivot.loc[:,[p.find(\"NUDCD1\") >= 0 for p in sig_regress_pivot.columns]], figsize=(15, 8), cbar_pos=(0, 0, .05, .3))\n",
        "plt.title(\"slope\") \n",
        "plt.savefig('Figures/NUDCD1_heatmap.jpg')"
      ],
      "execution_count": 0,
      "outputs": []
    },
    {
      "cell_type": "code",
      "metadata": {
        "id": "csKBdMXfqtaz",
        "colab_type": "code",
        "colab": {}
      },
      "source": [
        "sns.clustermap(sig_regress_pivot.loc[:,[p.find(\"YWHAZ\") >= 0 for p in sig_regress_pivot.columns]], figsize=(15, 8), cbar_pos=None)\n",
        "plt.savefig('Figures/YWHAZ_heatmap.jpg')"
      ],
      "execution_count": 0,
      "outputs": []
    }
  ]
}
